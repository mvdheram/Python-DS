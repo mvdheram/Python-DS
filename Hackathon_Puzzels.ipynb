{
  "nbformat": 4,
  "nbformat_minor": 0,
  "metadata": {
    "colab": {
      "provenance": [],
      "authorship_tag": "ABX9TyPoLjfyfMl6pKeTYwa0SmBN",
      "include_colab_link": true
    },
    "kernelspec": {
      "name": "python3",
      "display_name": "Python 3"
    },
    "language_info": {
      "name": "python"
    }
  },
  "cells": [
    {
      "cell_type": "markdown",
      "metadata": {
        "id": "view-in-github",
        "colab_type": "text"
      },
      "source": [
        "<a href=\"https://colab.research.google.com/github/mvdheram/Python-DS/blob/master/Hackathon_Puzzels.ipynb\" target=\"_parent\"><img src=\"https://colab.research.google.com/assets/colab-badge.svg\" alt=\"Open In Colab\"/></a>"
      ]
    },
    {
      "cell_type": "markdown",
      "source": [
        "# Problem - 1"
      ],
      "metadata": {
        "id": "dPvU1D-hc9vV"
      }
    },
    {
      "cell_type": "markdown",
      "source": [
        "A deck of playing cards contains 4 colors (Hearts, Club,\n",
        "Diamond and Spade), and each color has 13 cards\n",
        "numbered from 1 - 13.\n",
        "Given a set of cards in hand, you have to return the\n",
        "maximum continous sequence of same color.\n",
        "\n",
        "```\n",
        "Sample Input:\n",
        "['5C’, ‘2D’, ‘10C’, ‘4S’, ‘6S’, ‘2H’, ‘1S’, ‘8D’, ‘4C’, ‘6C’, ‘8H’,\n",
        "‘5S’, ‘1H’, ‘3C']\n",
        "\n",
        "Sample Output\n",
        "[‘3C’, ‘4C’, ‘5C’, ‘6C’]\n",
        "```"
      ],
      "metadata": {
        "id": "TSS7j45FdEbL"
      }
    },
    {
      "cell_type": "code",
      "execution_count": null,
      "metadata": {
        "colab": {
          "base_uri": "https://localhost:8080/"
        },
        "id": "g8GYZl6McEjb",
        "outputId": "c3d8782c-3284-4bb4-8427-46dffb98ac96"
      },
      "outputs": [
        {
          "output_type": "stream",
          "name": "stdout",
          "text": [
            "['3C', '4C', '5C', '6C']\n"
          ]
        }
      ],
      "source": [
        "\"\"\"\n",
        "1. Group cards based on colors\n",
        "2. Create a color: card dictionary\n",
        "3. Sort the dictionary values (card numbers)\n",
        "4. Find the maximum continues (T.B.D)\n",
        "    * Create a default dictionary of list\n",
        "    * For n element in the list\n",
        "        * Check if n+1 present in the list\n",
        "        * Else skip the n element\n",
        "    * Update the dictionary of each color with consecutive sequence\n",
        "5. Print the maximum value in the dictionary\n",
        "\"\"\"\n",
        "\n",
        "# Group cards based on color\n",
        "def get_counts(color, cards):\n",
        "    res = []\n",
        "    for card in cards:\n",
        "        if color in card.lower():\n",
        "            res.append(int(card[0]))\n",
        "    return res\n",
        "\n",
        "\n",
        "def get_longest_sequences_per_color(cards):\n",
        "    num_set = set(cards)\n",
        "    longest = 0\n",
        "    sequences = {}\n",
        "\n",
        "    for n in num_set:\n",
        "        temp = []\n",
        "        if n - 1 not in num_set:\n",
        "            length = 1\n",
        "            temp.append(n)\n",
        "            while (n + length) in num_set:\n",
        "                temp.append(n + length)\n",
        "                length += 1\n",
        "            longest = max(length, longest)\n",
        "            sequences[length] = temp\n",
        "\n",
        "    return sequences[longest]\n",
        "\n",
        "\n",
        "# Get maximum continues sequence for each key\n",
        "def continues_sequence(counts):\n",
        "    for key,values in counts.items():\n",
        "        counts[key] = get_longest_sequences_per_color(values)\n",
        "    return max_continuos_sequence(counts)\n",
        "\n",
        "\n",
        "# Create color: card (sorted) dictionary\n",
        "def max_color_sequence(cards):\n",
        "    counts_dict = {}\n",
        "    colors = [\"h\", \"d\", \"c\", \"s\"]\n",
        "\n",
        "    for color in colors:\n",
        "        counts_dict[color] = get_counts(color, cards)\n",
        "\n",
        "    return continues_sequence(counts_dict)\n",
        "\n",
        "\n",
        "def max_continuos_sequence(count_sequence):\n",
        "    maximum_key = list(count_sequence.keys())[0]\n",
        "    for key, val in count_sequence.items():\n",
        "        if len(val) > len(count_sequence[maximum_key]):\n",
        "            maximum_key = key\n",
        "    return [str(x) + str(maximum_key).upper() for x in count_sequence[maximum_key]]\n",
        "\n",
        "\n",
        "# Press the green button in the gutter to run the script.\n",
        "if __name__ == '__main__':\n",
        "    cards_list = [\"5C\", \"2D\", \"10C\", \"4S\", \"6S\", \"2H\", \"1S\", \"8D\", \"4C\", \"6C\", \"8H\", \"5S\", \"1H\", \"3C\"]\n",
        "    print(max_color_sequence(cards_list))\n"
      ]
    },
    {
      "cell_type": "markdown",
      "source": [
        "# Problem 2"
      ],
      "metadata": {
        "id": "JOZkRJd5dtf_"
      }
    },
    {
      "cell_type": "markdown",
      "source": [
        "You have a string which is written using QWERTY keypad.\n",
        "Write a program to encrypt the string by shifting the\n",
        "alphabets by n keys in the same row of qwerty keypad. For\n",
        "example if you shift 'U' by 5 chars towards right, then it will\n",
        "be W.\n",
        "Other special characters or punctuations should not be\n",
        "changed. It will be good if you maintain the case sensitivity.\n",
        "\n",
        "```\n",
        "Sample Input:\n",
        "'This is a sample string, where chars are rotated by 3 keys\n",
        "on right side.'\n",
        "\n",
        "Sample Output:\n",
        "‘Ilqg qg f gfcedy giuqxk, tlyuy nlfug fuy uwifiyh zo 3 syog wx\n",
        "uqkli gqhy.’\n",
        "```"
      ],
      "metadata": {
        "id": "5IhPm_jKdviO"
      }
    },
    {
      "cell_type": "code",
      "source": [
        "\"\"\"\n",
        "1. Split the sentence into words\n",
        "2. Create a qwerty:index dictionary\n",
        "3. For each character in word\n",
        "    * Get the index of the qwerty\n",
        "    * Add the number of rotations\n",
        "    * Print the value based on the rotation from dictionary\n",
        "        * If the rotation value exceeds the length of qwerty\n",
        "            * Subtract the number from length of the qwerty\n",
        "            * Print the dictionary value\n",
        "\"\"\"\n",
        "\n",
        "\n",
        "def rotate_string(qwerty, i, rotations, capital_flag):\n",
        "    index_of_i = qwerty.index(i)\n",
        "    rotated_string_len = index_of_i + rotations\n",
        "\n",
        "    if rotated_string_len >= len(qwerty):\n",
        "        rotated_string = qwerty[rotated_string_len - len(qwerty)]\n",
        "    else:\n",
        "        rotated_string = qwerty[rotated_string_len]\n",
        "\n",
        "    return format_cases(rotated_string, capital_flag)\n",
        "\n",
        "\n",
        "def format_cases(chars, flag):\n",
        "    if flag == 'U':\n",
        "        return chars.upper()\n",
        "    else:\n",
        "        return chars\n",
        "\n",
        "\n",
        "def check_capital(chrs):\n",
        "    if 'A' <= chrs <= 'Z':\n",
        "        caps = 'U'\n",
        "    elif 'a' <= chrs <= 'z':\n",
        "        caps = 'l'\n",
        "    else:\n",
        "        return\n",
        "    return caps\n",
        "\n",
        "\n",
        "def shifted_qwerty(sent, numRotations):\n",
        "    qwerty_1 = [\"q\", \"w\", \"e\", \"r\", \"t\", \"y\", \"u\", \"i\", \"o\", \"p\"]\n",
        "    qwerty_2 = [\"a\", \"s\", \"d\", \"f\", \"g\", \"h\", \"j\", \"k\", \"l\"]\n",
        "    qwerty_3 = [\"z\", \"x\", \"c\", \"v\", \"b\", \"n\", \"m\"]\n",
        "    result = []\n",
        "\n",
        "    words = [word for word in sent.split()]\n",
        "    for word in words:\n",
        "        rotated_word = []\n",
        "        for chars in word:\n",
        "            cap_flag = check_capital(chars)\n",
        "            chars = chars.lower()\n",
        "            if chars in qwerty_1:\n",
        "                rotated_word.append(rotate_string(qwerty_1, chars, numRotations,cap_flag))\n",
        "            elif chars in qwerty_2:\n",
        "                rotated_word.append(rotate_string(qwerty_2, chars, numRotations,cap_flag))\n",
        "            elif chars in qwerty_3:\n",
        "                rotated_word.append(rotate_string(qwerty_3, chars, numRotations,cap_flag))\n",
        "            elif chars == \" \":\n",
        "                rotated_word.append(\" \")\n",
        "            else:\n",
        "                rotated_word.append(chars)\n",
        "        result.append(' '.join(rotated_word))\n",
        "    return result\n",
        "\n",
        "\n",
        "if __name__ == '__main__':\n",
        "    sentence = \"This is a sample string, where chars are rotated by 3 keys on right side.\"\n",
        "    num_of_rotations = 3\n",
        "    print(shifted_qwerty(sentence, num_of_rotations))\n",
        "\n"
      ],
      "metadata": {
        "id": "YZ_ejmHLdvFQ",
        "colab": {
          "base_uri": "https://localhost:8080/"
        },
        "outputId": "9200de35-60f3-4a86-cc22-bd5e7c0831d6"
      },
      "execution_count": null,
      "outputs": [
        {
          "output_type": "stream",
          "name": "stdout",
          "text": [
            "['I l q g', 'q g', 'f', 'g f c e d y', 'g i u q x k ,', 't l y u y', 'n l f u g', 'f u y', 'u w i f i y h', 'z o', '3', 's y o g', 'w x', 'u q k l i', 'g q h y .']\n"
          ]
        }
      ]
    },
    {
      "cell_type": "markdown",
      "source": [
        "# Problem 3"
      ],
      "metadata": {
        "id": "AnVwW4bahmVy"
      }
    },
    {
      "cell_type": "markdown",
      "source": [
        "Given a list/array of integers, arrange the list in descending\n",
        "order according to repeatation frequency of integer.\n",
        "In case where many integers have same repeatation\n",
        "frequecy, then put the smaller number first.\n",
        "\n",
        "```\n",
        "Sample Input 1\n",
        "[1,4,5,6,6,5,3,5,1,6,4,6]\n",
        "\n",
        "Sample Output 1\n",
        "[6,6,6,6,5,5,5,1,1,4,4,3]\n",
        "```"
      ],
      "metadata": {
        "id": "CjjMEq-HmGaa"
      }
    },
    {
      "cell_type": "code",
      "source": [],
      "metadata": {
        "id": "dOKl6ZQRmEm4"
      },
      "execution_count": null,
      "outputs": []
    }
  ]
}