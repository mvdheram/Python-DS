{
  "nbformat": 4,
  "nbformat_minor": 0,
  "metadata": {
    "colab": {
      "name": "Python.ipynb",
      "provenance": [],
      "toc_visible": true,
      "authorship_tag": "ABX9TyO8htSzpOMWmauu6u7vsSe0",
      "include_colab_link": true
    },
    "kernelspec": {
      "name": "python3",
      "display_name": "Python 3"
    },
    "language_info": {
      "name": "python"
    }
  },
  "cells": [
    {
      "cell_type": "markdown",
      "metadata": {
        "id": "view-in-github",
        "colab_type": "text"
      },
      "source": [
        "<a href=\"https://colab.research.google.com/github/mvdheram/Python-DS/blob/master/Python.ipynb\" target=\"_parent\"><img src=\"https://colab.research.google.com/assets/colab-badge.svg\" alt=\"Open In Colab\"/></a>"
      ]
    },
    {
      "cell_type": "markdown",
      "source": [
        "Link : https://docs.python.org/3/tutorial/index.html"
      ],
      "metadata": {
        "id": "6v9xfvdNVMz2"
      }
    },
    {
      "cell_type": "markdown",
      "source": [
        "Python is high-level, object-oriented, scripting language. \n",
        "\n",
        "---\n",
        "  * Scripting language \n",
        "      * Scripting languages are programming languages where the high-level program is **interpreted** rather than compiled.\n",
        "        * Compiler vs interpretor\n",
        "          * **What ?**\n",
        "            * Translate human readable instruction to machine readable instruction. (**High-level source code -> low-level machine code**)\n",
        "          * **How ?**\n",
        "            * Two ways  \n",
        "              1. Compiler : \n",
        "                * **High-level program ▶ Compiler ▶ Intermediate machine code of entire program (after syntax check) ▶ Output**.\n",
        "                  * Execution starts after machine code is compiled\n",
        "                    * Generates executable output file after compilation which can be executed.\n",
        "                  * Machine code is machine dependent \n",
        "                  * Compiler runs fasters after compilation, but compilation may take some time.\n",
        "                    * Optimization of code is robust as entire code is compiled at once. Hence program executes faster.\n",
        "                  * Statically typed (type checking performed during compile time) hence more type safe.\n",
        "              2. Interpretor : \n",
        "                *  **High-level program ▶ Interpretor (line-by-line)  ▶ Output**. \n",
        "                  * Program Execution is a part of Interpretation process, so it is performed line by line.\n",
        "                  * Interpretor runs slower as line by line is interpreted.\n",
        "                    *  Optimization not robust as interpretor sees code line by line.\n",
        "                  * Dynamically typed (type checking performed during run time) hence not type safe. \n",
        " ---\n"
      ],
      "metadata": {
        "id": "iNUohBwtYscV"
      }
    },
    {
      "cell_type": "markdown",
      "source": [
        "## Numbers, Strings, Lists"
      ],
      "metadata": {
        "id": "XNQ9jLyMw3Xx"
      }
    },
    {
      "cell_type": "markdown",
      "source": [
        "### Numerical operations "
      ],
      "metadata": {
        "id": "-DWUARAc2WDr"
      }
    },
    {
      "cell_type": "markdown",
      "source": [
        "* Operators `+,*,-,/` works directly with numbers.\n",
        "* **Division Operation** (`/`)\n",
        "  * Returns float\n",
        "  * Remove fractional part using Floor division `//` \n",
        "  * Percentile (`%`) returns remainder of division \n",
        "* **Power** (`**`)\n",
        "  * x `**` y returns x to the power of y."
      ],
      "metadata": {
        "id": "lopBLJ_m2qw8"
      }
    },
    {
      "cell_type": "markdown",
      "source": [
        "### Strings"
      ],
      "metadata": {
        "id": "6aGx9lzvxXmU"
      }
    },
    {
      "cell_type": "code",
      "source": [
        ""
      ],
      "metadata": {
        "id": "4gHqAuj-t7I8"
      },
      "execution_count": null,
      "outputs": []
    },
    {
      "cell_type": "markdown",
      "source": [
        "### Lists"
      ],
      "metadata": {
        "id": "JpA11kkc2XR1"
      }
    },
    {
      "cell_type": "code",
      "source": [
        ""
      ],
      "metadata": {
        "id": "uNS5sD3_2dUW"
      },
      "execution_count": null,
      "outputs": []
    }
  ]
}