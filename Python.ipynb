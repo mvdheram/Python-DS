{
  "nbformat": 4,
  "nbformat_minor": 0,
  "metadata": {
    "colab": {
      "name": "Python.ipynb",
      "provenance": [],
      "toc_visible": true,
      "authorship_tag": "ABX9TyOerJ6Xd1YEW7NEHAegCTaJ",
      "include_colab_link": true
    },
    "kernelspec": {
      "name": "python3",
      "display_name": "Python 3"
    },
    "language_info": {
      "name": "python"
    }
  },
  "cells": [
    {
      "cell_type": "markdown",
      "metadata": {
        "id": "view-in-github",
        "colab_type": "text"
      },
      "source": [
        "<a href=\"https://colab.research.google.com/github/mvdheram/Python-DS/blob/master/Python.ipynb\" target=\"_parent\"><img src=\"https://colab.research.google.com/assets/colab-badge.svg\" alt=\"Open In Colab\"/></a>"
      ]
    },
    {
      "cell_type": "markdown",
      "source": [
        "Link : https://docs.python.org/3/tutorial/index.html"
      ],
      "metadata": {
        "id": "6v9xfvdNVMz2"
      }
    },
    {
      "cell_type": "markdown",
      "source": [
        "Python is high-level, object-oriented, scripting language. \n",
        "\n",
        "---\n",
        "  * Scripting language \n",
        "      * Scripting languages are programming languages where the high-level program is **interpreted** rather than compiled.\n",
        "        * Compiler vs interpretor\n",
        "          * **What ?**\n",
        "            * Translate human readable instruction to machine readable instruction. (**High-level source code -> low-level machine code**)\n",
        "          * **How ?**\n",
        "            * Two ways  \n",
        "              1. Compiler : \n",
        "                * **High-level program ▶ Compiler ▶ Intermediate machine code of entire program (after syntax check) ▶ Output**.\n",
        "                  * Execution starts after machine code is compiled\n",
        "                    * Generates executable output file after compilation which can be executed.\n",
        "                  * Machine code is machine dependent \n",
        "                  * Compiler runs fasters after compilation, but compilation may take some time.\n",
        "                    * Optimization of code is robust as entire code is compiled at once. Hence program executes faster.\n",
        "                  * Statically typed (type checking performed during compile time) hence more type safe.\n",
        "              2. Interpretor : \n",
        "                *  **High-level program ▶ Interpretor (line-by-line)  ▶ Output**. \n",
        "                  * Program Execution is a part of Interpretation process, so it is performed line by line.\n",
        "                  * Interpretor runs slower as line by line is interpreted.\n",
        "                    *  Optimization not robust as interpretor sees code line by line.\n",
        "                  * Dynamically typed (type checking performed during run time) hence not type safe. \n",
        " ---\n"
      ],
      "metadata": {
        "id": "iNUohBwtYscV"
      }
    },
    {
      "cell_type": "markdown",
      "source": [
        "# Coding Style "
      ],
      "metadata": {
        "id": "0ohNE7hmLJ2n"
      }
    },
    {
      "cell_type": "markdown",
      "source": [
        "https://docs.python.org/3/tutorial/controlflow.html#intermezzo-coding-style"
      ],
      "metadata": {
        "id": "9bnx6gtjLRzF"
      }
    },
    {
      "cell_type": "markdown",
      "source": [
        "Variable and its properties :\n",
        "\n",
        "* Dynamically typed\n",
        "  * `n = 0` or `n = \"abc\"`\n",
        "* Multiple assignments \n",
        "  * `n,m = 0, \"abc\"`\n",
        "  * `n,m,z = 0.125, \"abc\", False`\n",
        "  * Increment  :  \n",
        "    * Allowed : `n = n+1`\n",
        "    * Allowed : `n += 1`\n",
        "    * Not Allowed : `n++`\n",
        "  * Null assignment : `n = None`\n"
      ],
      "metadata": {
        "id": "IybwXS_1sR6-"
      }
    },
    {
      "cell_type": "markdown",
      "source": [
        "Loops\n",
        "  * For loops : \n",
        "    * *Increment from 0 to 5* `for i in range(6)` - \n",
        "    * *Increment from 2 to 5* `for i in range(2,6)\n",
        "    * *Decrement from 5 to 2* `for i in range(5,1,-1)\n",
        "  * While loop : loop from 0 through 4 \n",
        "    \n",
        "    ``` \n",
        "    n = 0 \n",
        "    while n < 5:\n",
        "      print(n)\n",
        "      n+=1\n",
        "    ```  "
      ],
      "metadata": {
        "id": "rIHKO0jjsLwb"
      }
    },
    {
      "cell_type": "markdown",
      "source": [
        "# Numbers, Strings, Lists"
      ],
      "metadata": {
        "id": "XNQ9jLyMw3Xx"
      }
    },
    {
      "cell_type": "markdown",
      "source": [
        "### Numerical operations "
      ],
      "metadata": {
        "id": "-DWUARAc2WDr"
      }
    },
    {
      "cell_type": "markdown",
      "source": [
        "* Operators `+,*,-,/` works directly with numbers.\n",
        "* **Division Operation** (`/`)\n",
        "  * Returns float\n",
        "  * Remove fractional part using Floor division `//` \n",
        "  * Percentile (`%`) returns remainder of division \n",
        "* **Power** (`**`)\n",
        "  * x `**` y returns x to the power of y."
      ],
      "metadata": {
        "id": "lopBLJ_m2qw8"
      }
    },
    {
      "cell_type": "markdown",
      "source": [
        "#### Sample code"
      ],
      "metadata": {
        "id": "CMEiInesul3Z"
      }
    },
    {
      "cell_type": "code",
      "source": [
        "5/2"
      ],
      "metadata": {
        "colab": {
          "base_uri": "https://localhost:8080/"
        },
        "id": "vsm5KmGPuMF8",
        "outputId": "34319669-65af-4b9c-cfdf-c9a9a6559f6f"
      },
      "execution_count": 3,
      "outputs": [
        {
          "output_type": "execute_result",
          "data": {
            "text/plain": [
              "2.5"
            ]
          },
          "metadata": {},
          "execution_count": 3
        }
      ]
    },
    {
      "cell_type": "code",
      "source": [
        "5//2 # Round down "
      ],
      "metadata": {
        "colab": {
          "base_uri": "https://localhost:8080/"
        },
        "id": "j77km_o5uWi9",
        "outputId": "31ae40c9-baa0-4329-9265-58febcb101ad"
      },
      "execution_count": 4,
      "outputs": [
        {
          "output_type": "execute_result",
          "data": {
            "text/plain": [
              "2"
            ]
          },
          "metadata": {},
          "execution_count": 4
        }
      ]
    },
    {
      "cell_type": "code",
      "source": [
        "# Negative division  - Answer (1.5)\n",
        "print(\"Rounded donw of -3/2 : \" , -3 // 2)  \n",
        "\n",
        "# To round down to zero  = decimal division and covert to int\n",
        "print(\"# Rounded donw of -3/2 to zero : \", int(-3 / 2)) "
      ],
      "metadata": {
        "colab": {
          "base_uri": "https://localhost:8080/"
        },
        "id": "msds7twSwMGf",
        "outputId": "69149e19-d074-4038-d838-b7c51bdbdf0a"
      },
      "execution_count": 12,
      "outputs": [
        {
          "output_type": "stream",
          "name": "stdout",
          "text": [
            "Rounded donw of -3/2 :  -2\n",
            "# Rounded donw of -3/2 to zero :  -1\n"
          ]
        }
      ]
    },
    {
      "cell_type": "code",
      "source": [
        "10 % 3"
      ],
      "metadata": {
        "colab": {
          "base_uri": "https://localhost:8080/"
        },
        "id": "Nuq8o6kDykNq",
        "outputId": "7c9c1aa3-8063-4b20-c5bc-35fa3a2c227a"
      },
      "execution_count": 13,
      "outputs": [
        {
          "output_type": "execute_result",
          "data": {
            "text/plain": [
              "1"
            ]
          },
          "metadata": {},
          "execution_count": 13
        }
      ]
    },
    {
      "cell_type": "code",
      "source": [
        "# Negative division  - Answer (1)\n",
        "print(\"Rounded down of -10%3 : \" , -10 % 3)  \n",
        "\n",
        "# To round down to zero  = decimal division and covert to int\n",
        "import math \n",
        "print(\"Rounded donw of -10%3 to zero : \", math.fmod(-10,3)) "
      ],
      "metadata": {
        "colab": {
          "base_uri": "https://localhost:8080/"
        },
        "id": "tvyzimdqyuHa",
        "outputId": "a6c6b930-9518-4f73-8578-9fe5101a7357"
      },
      "execution_count": 18,
      "outputs": [
        {
          "output_type": "stream",
          "name": "stdout",
          "text": [
            "Rounded donw of -10%3 :  2\n",
            "Rounded donw of -10%3 to zero :  -1.0\n"
          ]
        }
      ]
    },
    {
      "cell_type": "markdown",
      "source": [
        "##### Math module"
      ],
      "metadata": {
        "id": "R8G4Vi620IEm"
      }
    },
    {
      "cell_type": "markdown",
      "source": [
        "Round down "
      ],
      "metadata": {
        "id": "_V11pFxk0dd6"
      }
    },
    {
      "cell_type": "code",
      "source": [
        "print(3/2)\n",
        "print(\"rounded down of 3/2 : \", math.floor (3/2)) # Round down "
      ],
      "metadata": {
        "colab": {
          "base_uri": "https://localhost:8080/"
        },
        "id": "eKfkM7oez_9a",
        "outputId": "a07f35f5-b2b1-4837-d9e1-abd6735cfe47"
      },
      "execution_count": 22,
      "outputs": [
        {
          "output_type": "stream",
          "name": "stdout",
          "text": [
            "1.5\n",
            "rounded down of 3/2 :  1\n"
          ]
        }
      ]
    },
    {
      "cell_type": "markdown",
      "source": [
        "Round up"
      ],
      "metadata": {
        "id": "O4Rd9jro0sTb"
      }
    },
    {
      "cell_type": "code",
      "source": [
        "print(3/2)\n",
        "print(\"rounded up of 3/2 : \", math.ceil (3/2)) # Round down "
      ],
      "metadata": {
        "colab": {
          "base_uri": "https://localhost:8080/"
        },
        "id": "2cf5O77M0aMe",
        "outputId": "044f5177-fbd3-4c7c-f9fb-077136826754"
      },
      "execution_count": 23,
      "outputs": [
        {
          "output_type": "stream",
          "name": "stdout",
          "text": [
            "1.5\n",
            "rounded up of 3/2 :  2\n"
          ]
        }
      ]
    },
    {
      "cell_type": "markdown",
      "source": [
        "Square root "
      ],
      "metadata": {
        "id": "ot2ZuCgW06mW"
      }
    },
    {
      "cell_type": "code",
      "source": [
        "math.sqrt(2)"
      ],
      "metadata": {
        "colab": {
          "base_uri": "https://localhost:8080/"
        },
        "id": "9Stb3kgl0-ci",
        "outputId": "a0b8368a-7ded-43d3-8902-bcf6baf87640"
      },
      "execution_count": 24,
      "outputs": [
        {
          "output_type": "execute_result",
          "data": {
            "text/plain": [
              "1.4142135623730951"
            ]
          },
          "metadata": {},
          "execution_count": 24
        }
      ]
    },
    {
      "cell_type": "markdown",
      "source": [
        "Power"
      ],
      "metadata": {
        "id": "AhfIMeIZ08oC"
      }
    },
    {
      "cell_type": "code",
      "source": [
        "math.pow(2,3)"
      ],
      "metadata": {
        "colab": {
          "base_uri": "https://localhost:8080/"
        },
        "id": "LX0oh4Ga1DqK",
        "outputId": "b4335b16-bb35-48f5-b387-f76624bf4335"
      },
      "execution_count": 25,
      "outputs": [
        {
          "output_type": "execute_result",
          "data": {
            "text/plain": [
              "8.0"
            ]
          },
          "metadata": {},
          "execution_count": 25
        }
      ]
    },
    {
      "cell_type": "markdown",
      "source": [
        "Maximum integer "
      ],
      "metadata": {
        "id": "ZCXvSPlU1M2y"
      }
    },
    {
      "cell_type": "code",
      "source": [
        "float(\"inf\")"
      ],
      "metadata": {
        "colab": {
          "base_uri": "https://localhost:8080/"
        },
        "id": "-qZ5F0U61Ji8",
        "outputId": "3bf5d3f1-e727-4b67-bc4e-cc17c763a579"
      },
      "execution_count": 26,
      "outputs": [
        {
          "output_type": "execute_result",
          "data": {
            "text/plain": [
              "inf"
            ]
          },
          "metadata": {},
          "execution_count": 26
        }
      ]
    },
    {
      "cell_type": "markdown",
      "source": [
        "Minimum integer"
      ],
      "metadata": {
        "id": "b9P522b11aXc"
      }
    },
    {
      "cell_type": "code",
      "source": [
        "float(\"-inf\")"
      ],
      "metadata": {
        "colab": {
          "base_uri": "https://localhost:8080/"
        },
        "id": "1Sib1FTj1T47",
        "outputId": "df7f2413-5f2e-46df-97ce-06facafe7c9f"
      },
      "execution_count": 27,
      "outputs": [
        {
          "output_type": "execute_result",
          "data": {
            "text/plain": [
              "-inf"
            ]
          },
          "metadata": {},
          "execution_count": 27
        }
      ]
    },
    {
      "cell_type": "markdown",
      "source": [],
      "metadata": {
        "id": "mxNsYs-H1I4F"
      }
    },
    {
      "cell_type": "markdown",
      "source": [
        "### Strings\n",
        "\n",
        "* **Immutable** (not possible to change the content)"
      ],
      "metadata": {
        "id": "6aGx9lzvxXmU"
      }
    },
    {
      "cell_type": "markdown",
      "source": [
        "Single vs double quotes : **No difference**\n",
        "\n",
        "* Special characters `'` needs to be escaped using `\\`\n",
        "\n",
        "Style:\n",
        "* Use single quotes for tokens and double quotes for longer strings. "
      ],
      "metadata": {
        "id": "i7fE4WBwJWJB"
      }
    },
    {
      "cell_type": "code",
      "source": [
        "'doesn\\'t'"
      ],
      "metadata": {
        "id": "4gHqAuj-t7I8",
        "colab": {
          "base_uri": "https://localhost:8080/",
          "height": 35
        },
        "outputId": "7b49925b-45ed-4236-caaa-3089136eb766"
      },
      "execution_count": 56,
      "outputs": [
        {
          "output_type": "execute_result",
          "data": {
            "text/plain": [
              "\"doesn't\""
            ],
            "application/vnd.google.colaboratory.intrinsic+json": {
              "type": "string"
            }
          },
          "metadata": {},
          "execution_count": 56
        }
      ]
    },
    {
      "cell_type": "code",
      "source": [
        "\"doesn't\""
      ],
      "metadata": {
        "colab": {
          "base_uri": "https://localhost:8080/",
          "height": 35
        },
        "id": "EV-zNOlVKN5t",
        "outputId": "87f38922-f214-472b-db50-94a6db916276"
      },
      "execution_count": 46,
      "outputs": [
        {
          "output_type": "execute_result",
          "data": {
            "text/plain": [
              "\"doesn't\""
            ],
            "application/vnd.google.colaboratory.intrinsic+json": {
              "type": "string"
            }
          },
          "metadata": {},
          "execution_count": 46
        }
      ]
    },
    {
      "cell_type": "markdown",
      "source": [
        "Reading file paths \n",
        "  * Avoid character prefaced by `\\` to be interpreted"
      ],
      "metadata": {
        "id": "KpuiZJi6PFIq"
      }
    },
    {
      "cell_type": "code",
      "source": [
        "print(r'C:\\some\\name')"
      ],
      "metadata": {
        "colab": {
          "base_uri": "https://localhost:8080/"
        },
        "id": "2Tjig2B-PSNF",
        "outputId": "d9cbdf14-fb9e-4cf7-95a5-4f9f2ce3c7a1"
      },
      "execution_count": 53,
      "outputs": [
        {
          "output_type": "stream",
          "name": "stdout",
          "text": [
            "C:\\some\\name\n"
          ]
        }
      ]
    },
    {
      "cell_type": "markdown",
      "source": [
        "String concatenation "
      ],
      "metadata": {
        "id": "7qNT_Yb7Owde"
      }
    },
    {
      "cell_type": "code",
      "source": [
        "# using variable \n",
        "t1 = 'py' \n",
        "t2 = 'thon'\n",
        "\n",
        "print(t1+t2)"
      ],
      "metadata": {
        "colab": {
          "base_uri": "https://localhost:8080/"
        },
        "id": "r-GFoQBpOxV-",
        "outputId": "bcbba3e2-02fa-405b-b898-c4af398c86bc"
      },
      "execution_count": 58,
      "outputs": [
        {
          "output_type": "stream",
          "name": "stdout",
          "text": [
            "python\n"
          ]
        }
      ]
    },
    {
      "cell_type": "code",
      "source": [
        "# without variables\n",
        "text = ('Put several strings within parentheses '\n",
        "        'to have them joined together.')\n",
        "\n",
        "text"
      ],
      "metadata": {
        "colab": {
          "base_uri": "https://localhost:8080/",
          "height": 35
        },
        "id": "4yMpbVORQHEv",
        "outputId": "c8aed53e-c74c-4022-8343-6dd9b4ceeeeb"
      },
      "execution_count": 62,
      "outputs": [
        {
          "output_type": "execute_result",
          "data": {
            "text/plain": [
              "'Put several strings within parentheses to have them joined together.'"
            ],
            "application/vnd.google.colaboratory.intrinsic+json": {
              "type": "string"
            }
          },
          "metadata": {},
          "execution_count": 62
        }
      ]
    },
    {
      "cell_type": "markdown",
      "source": [
        "String multiplication "
      ],
      "metadata": {
        "id": "17yB0vsxQO_7"
      }
    },
    {
      "cell_type": "code",
      "source": [
        "t1+t2 * 3"
      ],
      "metadata": {
        "colab": {
          "base_uri": "https://localhost:8080/",
          "height": 35
        },
        "id": "p1n6rGdBQSpE",
        "outputId": "2325765f-acdf-4988-d782-9a361374f5aa"
      },
      "execution_count": 61,
      "outputs": [
        {
          "output_type": "execute_result",
          "data": {
            "text/plain": [
              "'pythonthonthon'"
            ],
            "application/vnd.google.colaboratory.intrinsic+json": {
              "type": "string"
            }
          },
          "metadata": {},
          "execution_count": 61
        }
      ]
    },
    {
      "cell_type": "markdown",
      "source": [
        "Indexing and Slicing"
      ],
      "metadata": {
        "id": "O6VqTvd1QwCy"
      }
    },
    {
      "cell_type": "code",
      "source": [
        "word = 'python'"
      ],
      "metadata": {
        "id": "sMrYWLFPQvlY"
      },
      "execution_count": 63,
      "outputs": []
    },
    {
      "cell_type": "code",
      "source": [
        "print(\"first index :\", word[0],\"\\n\",\"Second index :\", word[1])"
      ],
      "metadata": {
        "colab": {
          "base_uri": "https://localhost:8080/"
        },
        "id": "Y777DVZXQ31Q",
        "outputId": "98073522-83d3-486b-9748-e12af311f7c3"
      },
      "execution_count": 71,
      "outputs": [
        {
          "output_type": "stream",
          "name": "stdout",
          "text": [
            "first index : p \n",
            " Second index : y\n"
          ]
        }
      ]
    },
    {
      "cell_type": "code",
      "source": [
        "print(\"last index :\", word[-1],\"\\n\",\"Second last index :\", word[-2])"
      ],
      "metadata": {
        "colab": {
          "base_uri": "https://localhost:8080/"
        },
        "id": "-552TFzXQ8eu",
        "outputId": "13fb307c-81f6-48f7-921c-7d86714cb157"
      },
      "execution_count": 73,
      "outputs": [
        {
          "output_type": "stream",
          "name": "stdout",
          "text": [
            "last index : n \n",
            " Second last index : o\n"
          ]
        }
      ]
    },
    {
      "cell_type": "code",
      "source": [
        "print(\"First two and last two index slicing : \", word[:2], word[-2:])"
      ],
      "metadata": {
        "colab": {
          "base_uri": "https://localhost:8080/"
        },
        "id": "Oesy7vPQRgGa",
        "outputId": "670f5562-f60a-4eb9-a12e-a1fd772d754d"
      },
      "execution_count": 75,
      "outputs": [
        {
          "output_type": "stream",
          "name": "stdout",
          "text": [
            "First two and last two index slicing :  py on\n"
          ]
        }
      ]
    },
    {
      "cell_type": "markdown",
      "source": [
        "#### String ascii value"
      ],
      "metadata": {
        "id": "Cc9ET0vsBNro"
      }
    },
    {
      "cell_type": "code",
      "source": [
        "print(ord('a'))"
      ],
      "metadata": {
        "colab": {
          "base_uri": "https://localhost:8080/"
        },
        "id": "9NCebzbFBT8p",
        "outputId": "4a4d7e85-ae15-48a8-96fd-2c6209dbd92f"
      },
      "execution_count": 262,
      "outputs": [
        {
          "output_type": "stream",
          "name": "stdout",
          "text": [
            "97\n"
          ]
        }
      ]
    },
    {
      "cell_type": "markdown",
      "source": [
        "#### Joining/appending strings"
      ],
      "metadata": {
        "id": "5rFCQidrBnfu"
      }
    },
    {
      "cell_type": "code",
      "source": [
        "strings = [\"ab\",\"cd\",\"df\"]\n",
        "print(\"\".join(strings))"
      ],
      "metadata": {
        "colab": {
          "base_uri": "https://localhost:8080/"
        },
        "id": "CGwXBE_oBc-k",
        "outputId": "53a3ab53-fe02-442f-912b-c819a479011f"
      },
      "execution_count": 263,
      "outputs": [
        {
          "output_type": "stream",
          "name": "stdout",
          "text": [
            "abcddf\n"
          ]
        }
      ]
    },
    {
      "cell_type": "markdown",
      "source": [
        "### Arrays (Lists - [1,2,'abc'])\n",
        "\n",
        "* Dynamic array by default \n",
        "  * Dynamic array :  *A random access, variable-size list data structure that allows elements to be added or removed*\n",
        "* Can be used as stack \n",
        "* can be sliced \n",
        "\n",
        "\n",
        "Operations:\n",
        "* **Append** to **end** of list `list.append(x)`\n",
        "* **Extend** list with new values contained in iterables `list.extend(iterables)`\n",
        "  * Iterables - `An iterator is an object that contains a countable number of values.` \n",
        "  * E.g. : list, tuple, string, set or dictionary\n",
        "* **Insert** at the index i item x `list.insert(i,x)`\n",
        "* **Remove the first item x** from list `list.remove(x)`\n",
        "* **Pop the item at given index** i `list.pop[i]`\n",
        "  * By default **remove the last element**\n",
        "\n",
        "> Indented block\n",
        "\n",
        "\n",
        "* **Remove all the items** from the list \n",
        "`list.clear()`\n",
        "* **Count** the number of occurences of x \n",
        "`list.count(x)`\n",
        "* **Sort** the list `list.sort(*,key = None, reverse = False)`\n",
        "* **Reverse** the list `list.reverse()`\n",
        "* **Shallow copy** list `list.copy()`\n",
        "\n",
        "Complexity \n",
        "\n",
        "* Insertion : O(n)\n",
        "* Search : O(n)\n",
        "* Insert : O(1)\n",
        "* Delete : O(n)"
      ],
      "metadata": {
        "id": "JpA11kkc2XR1"
      }
    },
    {
      "cell_type": "code",
      "source": [
        "arr = [1,2,3]\n",
        "arr"
      ],
      "metadata": {
        "id": "uNS5sD3_2dUW",
        "colab": {
          "base_uri": "https://localhost:8080/"
        },
        "outputId": "bf7f18ca-208d-41ce-b4f4-3b7b0ebb4f87"
      },
      "execution_count": 233,
      "outputs": [
        {
          "output_type": "execute_result",
          "data": {
            "text/plain": [
              "[1, 2, 3]"
            ]
          },
          "metadata": {},
          "execution_count": 233
        }
      ]
    },
    {
      "cell_type": "markdown",
      "source": [
        "#### Looping "
      ],
      "metadata": {
        "id": "t8Dh3xHHvGdM"
      }
    },
    {
      "cell_type": "code",
      "source": [
        "# Without using index\n",
        "for i in arr:\n",
        "  print(i)"
      ],
      "metadata": {
        "colab": {
          "base_uri": "https://localhost:8080/"
        },
        "id": "qDjZ3trTvG28",
        "outputId": "ae620e4b-1f88-4103-a18d-c54f740b392d"
      },
      "execution_count": 234,
      "outputs": [
        {
          "output_type": "stream",
          "name": "stdout",
          "text": [
            "1\n",
            "2\n",
            "3\n"
          ]
        }
      ]
    },
    {
      "cell_type": "code",
      "source": [
        "# Using index\n",
        "for i in range(len(arr)):\n",
        "  print(arr[i])"
      ],
      "metadata": {
        "colab": {
          "base_uri": "https://localhost:8080/"
        },
        "id": "DkUFY4-Iv4IO",
        "outputId": "3290b20a-f37a-49f5-f2bc-bd950e4ca7d4"
      },
      "execution_count": 236,
      "outputs": [
        {
          "output_type": "stream",
          "name": "stdout",
          "text": [
            "1\n",
            "2\n",
            "3\n"
          ]
        }
      ]
    },
    {
      "cell_type": "code",
      "source": [
        "# With index and value \n",
        "for i, n in enumerate(arr):\n",
        "  print(i,n)"
      ],
      "metadata": {
        "colab": {
          "base_uri": "https://localhost:8080/"
        },
        "id": "LHP2ReArwG_q",
        "outputId": "9cc1a1ae-c0f8-4be0-8dd1-b8b66f52bb68"
      },
      "execution_count": 238,
      "outputs": [
        {
          "output_type": "stream",
          "name": "stdout",
          "text": [
            "0 1\n",
            "1 2\n",
            "2 3\n"
          ]
        }
      ]
    },
    {
      "cell_type": "code",
      "source": [
        "# Iterating through two arrays\n",
        "num1 = [1,2,3,4]\n",
        "num2 = [3,4,5,6]\n",
        "\n",
        "for i, y in zip(num1,num2):\n",
        "  print(i,y)"
      ],
      "metadata": {
        "colab": {
          "base_uri": "https://localhost:8080/"
        },
        "id": "MU-M0Ztzw_Dd",
        "outputId": "97f54dca-29ae-4fd3-ae8f-6359700d6309"
      },
      "execution_count": 239,
      "outputs": [
        {
          "output_type": "stream",
          "name": "stdout",
          "text": [
            "1 3\n",
            "2 4\n",
            "3 5\n",
            "4 6\n"
          ]
        }
      ]
    },
    {
      "cell_type": "markdown",
      "source": [
        "Slicing"
      ],
      "metadata": {
        "id": "ev1lfjm-uSsF"
      }
    },
    {
      "cell_type": "code",
      "source": [
        "arr[2:4]"
      ],
      "metadata": {
        "id": "XYgz6xkcuBYd",
        "outputId": "3c97c55b-cf86-4e66-f145-fabc4c52b4e1",
        "colab": {
          "base_uri": "https://localhost:8080/"
        }
      },
      "execution_count": null,
      "outputs": [
        {
          "output_type": "execute_result",
          "data": {
            "text/plain": [
              "[3, 2]"
            ]
          },
          "metadata": {},
          "execution_count": 230
        }
      ]
    },
    {
      "cell_type": "markdown",
      "source": [
        "Unpacking"
      ],
      "metadata": {
        "id": "FfJJ95HduUFM"
      }
    },
    {
      "cell_type": "code",
      "source": [
        "a,b,c = [1,2,3]"
      ],
      "metadata": {
        "id": "Y0A3KU4QuK_i"
      },
      "execution_count": null,
      "outputs": []
    },
    {
      "cell_type": "markdown",
      "source": [
        "#### Operations sample code"
      ],
      "metadata": {
        "id": "c3cX2QhSxb4u"
      }
    },
    {
      "cell_type": "code",
      "source": [
        "arr.append(4)\n",
        "arr"
      ],
      "metadata": {
        "colab": {
          "base_uri": "https://localhost:8080/"
        },
        "id": "PJ0b01Cs1x9E",
        "outputId": "a9a3af85-030d-4c75-f719-d7b342299aaf"
      },
      "execution_count": 105,
      "outputs": [
        {
          "output_type": "execute_result",
          "data": {
            "text/plain": [
              "[1, 2, 3, 4]"
            ]
          },
          "metadata": {},
          "execution_count": 105
        }
      ]
    },
    {
      "cell_type": "code",
      "source": [
        "t1 = (7,9)\n",
        "arr.extend(t1)\n",
        "arr"
      ],
      "metadata": {
        "colab": {
          "base_uri": "https://localhost:8080/"
        },
        "id": "ggpVM0xfYQiM",
        "outputId": "ac607054-0e30-470b-aaff-4da2f6bce9f4"
      },
      "execution_count": 106,
      "outputs": [
        {
          "output_type": "execute_result",
          "data": {
            "text/plain": [
              "[1, 2, 3, 4, 7, 9]"
            ]
          },
          "metadata": {},
          "execution_count": 106
        }
      ]
    },
    {
      "cell_type": "code",
      "source": [
        "arr.insert(1,7)\n",
        "arr"
      ],
      "metadata": {
        "colab": {
          "base_uri": "https://localhost:8080/"
        },
        "id": "VoZuDWeiG6gy",
        "outputId": "c5a9f674-42c1-46dd-9731-d8ed2241042d"
      },
      "execution_count": 107,
      "outputs": [
        {
          "output_type": "execute_result",
          "data": {
            "text/plain": [
              "[1, 7, 2, 3, 4, 7, 9]"
            ]
          },
          "metadata": {},
          "execution_count": 107
        }
      ]
    },
    {
      "cell_type": "code",
      "source": [
        "arr.remove(7)\n",
        "arr"
      ],
      "metadata": {
        "colab": {
          "base_uri": "https://localhost:8080/"
        },
        "id": "VzLmmNqqHAma",
        "outputId": "de63be8c-ba60-4868-8d3b-141cb790d8b0"
      },
      "execution_count": 108,
      "outputs": [
        {
          "output_type": "execute_result",
          "data": {
            "text/plain": [
              "[1, 2, 3, 4, 7, 9]"
            ]
          },
          "metadata": {},
          "execution_count": 108
        }
      ]
    },
    {
      "cell_type": "code",
      "source": [
        "arr.pop(-2) # Remove last second index item \n",
        "arr"
      ],
      "metadata": {
        "colab": {
          "base_uri": "https://localhost:8080/"
        },
        "id": "IyE-S4d0GwgH",
        "outputId": "badc1226-0a61-4ab7-8095-27685023dd1b"
      },
      "execution_count": 109,
      "outputs": [
        {
          "output_type": "execute_result",
          "data": {
            "text/plain": [
              "[1, 2, 3, 4, 9]"
            ]
          },
          "metadata": {},
          "execution_count": 109
        }
      ]
    },
    {
      "cell_type": "code",
      "source": [
        "arr.count(2)"
      ],
      "metadata": {
        "colab": {
          "base_uri": "https://localhost:8080/"
        },
        "id": "leQtSYwOHBei",
        "outputId": "38fc9888-9b7a-4e84-fa9d-2f1811914d61"
      },
      "execution_count": 110,
      "outputs": [
        {
          "output_type": "execute_result",
          "data": {
            "text/plain": [
              "1"
            ]
          },
          "metadata": {},
          "execution_count": 110
        }
      ]
    },
    {
      "cell_type": "code",
      "source": [
        "arr.reverse()\n",
        "arr"
      ],
      "metadata": {
        "colab": {
          "base_uri": "https://localhost:8080/"
        },
        "id": "oFX7PiKYZJtZ",
        "outputId": "af15e5e3-2337-4168-e616-23313f2cd856"
      },
      "execution_count": 111,
      "outputs": [
        {
          "output_type": "execute_result",
          "data": {
            "text/plain": [
              "[9, 4, 3, 2, 1]"
            ]
          },
          "metadata": {},
          "execution_count": 111
        }
      ]
    },
    {
      "cell_type": "code",
      "source": [
        "# Sort based on length \n",
        "arr = [\"bob\",\"alice\"]\n",
        "arr.sort(key = lambda x: len(x))\n",
        "arr"
      ],
      "metadata": {
        "colab": {
          "base_uri": "https://localhost:8080/"
        },
        "id": "q-qUUFOQzGyw",
        "outputId": "d40cca73-6138-40e9-b2fe-92e9931572a9"
      },
      "execution_count": 242,
      "outputs": [
        {
          "output_type": "execute_result",
          "data": {
            "text/plain": [
              "['bob', 'alice']"
            ]
          },
          "metadata": {},
          "execution_count": 242
        }
      ]
    },
    {
      "cell_type": "markdown",
      "source": [
        "#### Lists(Arrays) as stacks \n",
        "\n",
        "* Last in First out :\n",
        "  * Insert and delete only of the top element of the stack"
      ],
      "metadata": {
        "id": "Z2CRCxOqZXnP"
      }
    },
    {
      "cell_type": "code",
      "source": [
        "stack = [4,5,6]\n",
        "stack.append(7)\n",
        "stack"
      ],
      "metadata": {
        "colab": {
          "base_uri": "https://localhost:8080/"
        },
        "id": "VXuscHERZW20",
        "outputId": "797c9a77-a411-4bac-cb54-926b4aa9a847"
      },
      "execution_count": 112,
      "outputs": [
        {
          "output_type": "execute_result",
          "data": {
            "text/plain": [
              "[4, 5, 6, 7]"
            ]
          },
          "metadata": {},
          "execution_count": 112
        }
      ]
    },
    {
      "cell_type": "code",
      "source": [
        "stack.pop()"
      ],
      "metadata": {
        "colab": {
          "base_uri": "https://localhost:8080/"
        },
        "id": "tUUGQSZSaQj1",
        "outputId": "3fb4433d-5826-4f00-d5c7-cdebbe63b862"
      },
      "execution_count": 113,
      "outputs": [
        {
          "output_type": "execute_result",
          "data": {
            "text/plain": [
              "7"
            ]
          },
          "metadata": {},
          "execution_count": 113
        }
      ]
    },
    {
      "cell_type": "markdown",
      "source": [
        "#### Lists(Arrays) as Queues\n",
        "\n",
        "* First-in first-out\n",
        "  * Why?\n",
        "    * Consist of two ends, namely \"rear and front\"\n",
        "    * Insertion of only at the rear side of array.\n",
        "    * Deletion of only at the front side of array. \n",
        "  * E.g.:\n",
        "    * Printer uses queue to store the pages to be printed\n",
        "\n",
        "\n",
        "* Operation \n",
        "\n",
        "  * **Enqueue** : Insert at the rear end of queue\n",
        "  * **Dequeue** : Delete the front element of the queue"
      ],
      "metadata": {
        "id": "5r4jbLDlZggZ"
      }
    },
    {
      "cell_type": "markdown",
      "source": [
        "##### Implementation using deque - double ended queue\n",
        "\n",
        "* Double ended queue : Elements can be added or deleted from left or right.\n",
        "  * l.append() - append to the right end of the list\n",
        "  * l.appendleft() - append to the left end of the list\n",
        "  * l.pop() - pop the right end element of the list\n",
        "  * l.popleft() - pop the left end element of the list\n",
        "\n"
      ],
      "metadata": {
        "id": "syVBpXaDfnvS"
      }
    },
    {
      "cell_type": "code",
      "source": [
        "from collections import deque\n",
        "\n",
        "class Queue:\n",
        "  def __init__(self, *arr):\n",
        "    self._elements = deque(arr)\n",
        "\n",
        "  def enqueue(self, item):\n",
        "    self._elements.append(item)\n",
        "\n",
        "  def dequeue(self):\n",
        "    return self._elements.popleft()\n",
        "\n",
        "  def __str__(self):\n",
        "    return \"Queue ({elements})\".format(elements = self._elements)\n",
        "\n",
        "  def __len__(self):\n",
        "    return len(self._elements)"
      ],
      "metadata": {
        "id": "vEBpR8oFZjzt"
      },
      "execution_count": 243,
      "outputs": []
    },
    {
      "cell_type": "code",
      "source": [
        "fifo = Queue('a','b')"
      ],
      "metadata": {
        "id": "tFRUCwfQhVJ4"
      },
      "execution_count": 244,
      "outputs": []
    },
    {
      "cell_type": "code",
      "source": [
        "print(fifo)"
      ],
      "metadata": {
        "colab": {
          "base_uri": "https://localhost:8080/"
        },
        "id": "jfXE6KBupcpR",
        "outputId": "7a3b20ca-0bf7-46bb-db77-0d29256eecde"
      },
      "execution_count": 245,
      "outputs": [
        {
          "output_type": "stream",
          "name": "stdout",
          "text": [
            "Queue (deque(['a', 'b']))\n"
          ]
        }
      ]
    },
    {
      "cell_type": "code",
      "source": [
        "fifo.enqueue(1)"
      ],
      "metadata": {
        "id": "0r6RmVCZpMgY"
      },
      "execution_count": 246,
      "outputs": []
    },
    {
      "cell_type": "code",
      "source": [
        "print(fifo)"
      ],
      "metadata": {
        "colab": {
          "base_uri": "https://localhost:8080/"
        },
        "id": "A_nc0b5TqtvQ",
        "outputId": "d6d1269d-7d4e-42cd-aa66-f09214359d09"
      },
      "execution_count": 247,
      "outputs": [
        {
          "output_type": "stream",
          "name": "stdout",
          "text": [
            "Queue (deque(['a', 'b', 1]))\n"
          ]
        }
      ]
    },
    {
      "cell_type": "code",
      "source": [
        "fifo.enqueue(2)"
      ],
      "metadata": {
        "id": "xxJQuzWOh83T"
      },
      "execution_count": 248,
      "outputs": []
    },
    {
      "cell_type": "code",
      "source": [
        "fifo.dequeue()"
      ],
      "metadata": {
        "colab": {
          "base_uri": "https://localhost:8080/",
          "height": 35
        },
        "id": "wGmV_h16hedn",
        "outputId": "11519f74-7979-44d5-b39b-eb72f8077083"
      },
      "execution_count": 249,
      "outputs": [
        {
          "output_type": "execute_result",
          "data": {
            "text/plain": [
              "'a'"
            ],
            "application/vnd.google.colaboratory.intrinsic+json": {
              "type": "string"
            }
          },
          "metadata": {},
          "execution_count": 249
        }
      ]
    },
    {
      "cell_type": "code",
      "source": [
        "print(fifo)"
      ],
      "metadata": {
        "colab": {
          "base_uri": "https://localhost:8080/"
        },
        "id": "pZ3tViWEmk4D",
        "outputId": "04f5b783-ccf5-4d68-f897-4f541522ac79"
      },
      "execution_count": 250,
      "outputs": [
        {
          "output_type": "stream",
          "name": "stdout",
          "text": [
            "Queue (deque(['b', 1, 2]))\n"
          ]
        }
      ]
    },
    {
      "cell_type": "markdown",
      "source": [
        "#### List Comprehensions\n",
        "\n",
        "* Consise way to create list \n",
        "\n",
        "Used :\n",
        "\n",
        "* Make new list by applying some operation to each element or create a subsequence with certain condition "
      ],
      "metadata": {
        "id": "etHKXsbm8nrI"
      }
    },
    {
      "cell_type": "markdown",
      "source": [
        "Perform operation "
      ],
      "metadata": {
        "id": "MLxKRw3r9TwI"
      }
    },
    {
      "cell_type": "code",
      "source": [
        "vec = [-4,-2,0,2,4]"
      ],
      "metadata": {
        "id": "yN72TozX8uzy"
      },
      "execution_count": 251,
      "outputs": []
    },
    {
      "cell_type": "code",
      "source": [
        "[x**2 for x in vec]"
      ],
      "metadata": {
        "colab": {
          "base_uri": "https://localhost:8080/"
        },
        "id": "vw0WvlKQ9b0I",
        "outputId": "ccd4e907-049b-4849-dff6-bbe91093d3f3"
      },
      "execution_count": 252,
      "outputs": [
        {
          "output_type": "execute_result",
          "data": {
            "text/plain": [
              "[16, 4, 0, 4, 16]"
            ]
          },
          "metadata": {},
          "execution_count": 252
        }
      ]
    },
    {
      "cell_type": "markdown",
      "source": [
        "Filter "
      ],
      "metadata": {
        "id": "7xQZoWkK9hh_"
      }
    },
    {
      "cell_type": "code",
      "source": [
        "[x for x in vec if x>0]"
      ],
      "metadata": {
        "colab": {
          "base_uri": "https://localhost:8080/"
        },
        "id": "is8-29_99i3C",
        "outputId": "8cbf5ee6-60e1-4d30-afba-32a41c6f852f"
      },
      "execution_count": 253,
      "outputs": [
        {
          "output_type": "execute_result",
          "data": {
            "text/plain": [
              "[2, 4]"
            ]
          },
          "metadata": {},
          "execution_count": 253
        }
      ]
    },
    {
      "cell_type": "markdown",
      "source": [
        "#### 2d Arays"
      ],
      "metadata": {
        "id": "NmryXfB--NDq"
      }
    },
    {
      "cell_type": "code",
      "source": [
        "arr = [[0] * 4 for i in range(4)]"
      ],
      "metadata": {
        "id": "eGCa_t1d-Ayb"
      },
      "execution_count": 254,
      "outputs": []
    },
    {
      "cell_type": "code",
      "source": [
        "arr"
      ],
      "metadata": {
        "colab": {
          "base_uri": "https://localhost:8080/"
        },
        "id": "y7GgE4Ec-9TC",
        "outputId": "f498e3ff-b88f-4e76-8f6b-b23d9f0ed642"
      },
      "execution_count": 255,
      "outputs": [
        {
          "output_type": "execute_result",
          "data": {
            "text/plain": [
              "[[0, 0, 0, 0], [0, 0, 0, 0], [0, 0, 0, 0], [0, 0, 0, 0]]"
            ]
          },
          "metadata": {},
          "execution_count": 255
        }
      ]
    },
    {
      "cell_type": "code",
      "source": [
        "import numpy as np\n",
        "\n",
        "np_arr = np.zeros((4,4))\n",
        "np_arr"
      ],
      "metadata": {
        "colab": {
          "base_uri": "https://localhost:8080/"
        },
        "id": "IZV8gMRq_nXC",
        "outputId": "0c6e90a1-c566-4458-9143-66681ec89187"
      },
      "execution_count": 260,
      "outputs": [
        {
          "output_type": "execute_result",
          "data": {
            "text/plain": [
              "array([[0., 0., 0., 0.],\n",
              "       [0., 0., 0., 0.],\n",
              "       [0., 0., 0., 0.],\n",
              "       [0., 0., 0., 0.]])"
            ]
          },
          "metadata": {},
          "execution_count": 260
        }
      ]
    },
    {
      "cell_type": "markdown",
      "source": [
        "# Hashsets (set - {1,2,'abc'})\n",
        "\n",
        "* A set is an **unordered collection** with **no duplicate elements**.\n",
        "\n",
        "* **Membership faster than list or tuple**\n",
        "  * `1 in mySet`\n",
        "\n",
        "* Set operations\n",
        "  * Difference `a-b` *elements in a but not in b*\n",
        "  * Intersection `a & b` *elements in both a and b*\n",
        "  * Union `a | b` *elements in a or b*\n",
        "  * Symmetric difference `a ^ b` *all elements in one set*\n",
        "\n",
        "* Other operations\n",
        "  * **Membership** - ele `in` set\n",
        "  * **Remove** - set.remove(ele)\n"
      ],
      "metadata": {
        "id": "dLho7IKNEPKy"
      }
    },
    {
      "cell_type": "code",
      "source": [
        "a = {1,2,4,7} \n",
        "b = set([3,9,8,7])"
      ],
      "metadata": {
        "id": "CPsy-qnEEY7n"
      },
      "execution_count": 290,
      "outputs": []
    },
    {
      "cell_type": "code",
      "source": [
        "a-b"
      ],
      "metadata": {
        "colab": {
          "base_uri": "https://localhost:8080/"
        },
        "id": "zNsUjhLYHYYM",
        "outputId": "85bbba1a-4ab9-47aa-ca6e-6b91dc48806f"
      },
      "execution_count": 291,
      "outputs": [
        {
          "output_type": "execute_result",
          "data": {
            "text/plain": [
              "{1, 2, 4}"
            ]
          },
          "metadata": {},
          "execution_count": 291
        }
      ]
    },
    {
      "cell_type": "code",
      "source": [
        "a & b"
      ],
      "metadata": {
        "colab": {
          "base_uri": "https://localhost:8080/"
        },
        "id": "exIK2M2HHZmN",
        "outputId": "92d87b12-b008-47d5-b0f4-64705715c548"
      },
      "execution_count": 292,
      "outputs": [
        {
          "output_type": "execute_result",
          "data": {
            "text/plain": [
              "{7}"
            ]
          },
          "metadata": {},
          "execution_count": 292
        }
      ]
    },
    {
      "cell_type": "code",
      "source": [
        "a | b"
      ],
      "metadata": {
        "colab": {
          "base_uri": "https://localhost:8080/"
        },
        "id": "ScOX6_PcHcvk",
        "outputId": "147199b7-b326-4bda-ed8c-8fe088ad3302"
      },
      "execution_count": 293,
      "outputs": [
        {
          "output_type": "execute_result",
          "data": {
            "text/plain": [
              "{1, 2, 3, 4, 7, 8, 9}"
            ]
          },
          "metadata": {},
          "execution_count": 293
        }
      ]
    },
    {
      "cell_type": "code",
      "source": [
        "a ^ b"
      ],
      "metadata": {
        "colab": {
          "base_uri": "https://localhost:8080/"
        },
        "id": "EILB4JhhHfEx",
        "outputId": "9a5763a5-ad8d-42ab-8b9a-1923484da623"
      },
      "execution_count": 294,
      "outputs": [
        {
          "output_type": "execute_result",
          "data": {
            "text/plain": [
              "{1, 2, 3, 4, 8, 9}"
            ]
          },
          "metadata": {},
          "execution_count": 294
        }
      ]
    },
    {
      "cell_type": "code",
      "source": [
        "# Remove and sort the list \n",
        "\n",
        "ls = [12,9,4,77,88,0,88,99,99,100]\n",
        "sorted(set(ls))"
      ],
      "metadata": {
        "colab": {
          "base_uri": "https://localhost:8080/"
        },
        "id": "ZAuK_CJ4RkF2",
        "outputId": "dcb40095-3bfd-4d72-ee56-c89cbf4d967d"
      },
      "execution_count": 295,
      "outputs": [
        {
          "output_type": "execute_result",
          "data": {
            "text/plain": [
              "[0, 4, 9, 12, 77, 88, 99, 100]"
            ]
          },
          "metadata": {},
          "execution_count": 295
        }
      ]
    },
    {
      "cell_type": "code",
      "source": [
        "a.add(9)\n",
        "print(a)"
      ],
      "metadata": {
        "colab": {
          "base_uri": "https://localhost:8080/"
        },
        "id": "pRBbwwHMR_TP",
        "outputId": "15f1638a-ca47-43e3-e656-228282762c24"
      },
      "execution_count": 297,
      "outputs": [
        {
          "output_type": "stream",
          "name": "stdout",
          "text": [
            "{1, 2, 4, 7, 9}\n"
          ]
        }
      ]
    },
    {
      "cell_type": "code",
      "source": [
        "a.remove(7)\n",
        "print(a)"
      ],
      "metadata": {
        "colab": {
          "base_uri": "https://localhost:8080/"
        },
        "id": "WK3I2RN8SEAg",
        "outputId": "b4df0dde-7ae7-47a7-f986-7fa87c73917a"
      },
      "execution_count": 298,
      "outputs": [
        {
          "output_type": "stream",
          "name": "stdout",
          "text": [
            "{1, 2, 4, 9}\n"
          ]
        }
      ]
    },
    {
      "cell_type": "markdown",
      "source": [
        "# Hashmap (dict - {'jack':4098, 'sape':7})\n",
        "\n",
        "* Unique set of key value pairs, which doesn't allow duplicates.\n"
      ],
      "metadata": {
        "id": "xXFwnFG_N1uY"
      }
    },
    {
      "cell_type": "markdown",
      "source": [
        "## Create"
      ],
      "metadata": {
        "id": "HgEoJiPMPz2u"
      }
    },
    {
      "cell_type": "code",
      "source": [
        "myMap = {}\n",
        "myMap[\"alice\"] = 88\n",
        "myMap[\"bob\"] = 77\n",
        "myMap"
      ],
      "metadata": {
        "colab": {
          "base_uri": "https://localhost:8080/"
        },
        "id": "K0dEvSETN0MM",
        "outputId": "dcc59792-589d-467f-ae40-a74bada8ffb3"
      },
      "execution_count": 301,
      "outputs": [
        {
          "output_type": "execute_result",
          "data": {
            "text/plain": [
              "{'alice': 88, 'bob': 77}"
            ]
          },
          "metadata": {},
          "execution_count": 301
        }
      ]
    },
    {
      "cell_type": "markdown",
      "source": [
        "## Update"
      ],
      "metadata": {
        "id": "nEi9VC_zP2tq"
      }
    },
    {
      "cell_type": "code",
      "source": [
        "myMap['alice'] = 7"
      ],
      "metadata": {
        "id": "S0X3OfDxP5Gi"
      },
      "execution_count": 275,
      "outputs": []
    },
    {
      "cell_type": "code",
      "source": [
        "myMap"
      ],
      "metadata": {
        "colab": {
          "base_uri": "https://localhost:8080/"
        },
        "id": "3TxmIWxYQQp8",
        "outputId": "46660b8b-e3d7-43c3-dafc-f037cf890b1b"
      },
      "execution_count": 277,
      "outputs": [
        {
          "output_type": "execute_result",
          "data": {
            "text/plain": [
              "{'alice': 7, 'bob': 77}"
            ]
          },
          "metadata": {},
          "execution_count": 277
        }
      ]
    },
    {
      "cell_type": "markdown",
      "source": [
        "## Operations and looping"
      ],
      "metadata": {
        "id": "LoIHQS8TP5xc"
      }
    },
    {
      "cell_type": "code",
      "source": [
        "del myMap['alice']"
      ],
      "metadata": {
        "id": "GNmUG3aoP-aO"
      },
      "execution_count": 303,
      "outputs": []
    },
    {
      "cell_type": "code",
      "source": [
        "list(myMap)"
      ],
      "metadata": {
        "colab": {
          "base_uri": "https://localhost:8080/"
        },
        "id": "oTjegrU8Qazd",
        "outputId": "2b069d2c-5570-416e-adea-a78ca2f53332"
      },
      "execution_count": 304,
      "outputs": [
        {
          "output_type": "execute_result",
          "data": {
            "text/plain": [
              "['bob', 'ky']"
            ]
          },
          "metadata": {},
          "execution_count": 304
        }
      ]
    },
    {
      "cell_type": "code",
      "source": [
        "myMap['ky'] = 99\n",
        "sorted(myMap)"
      ],
      "metadata": {
        "colab": {
          "base_uri": "https://localhost:8080/"
        },
        "id": "vWjlzTuNQeNF",
        "outputId": "0c4a4d8e-7b7e-4203-83cf-fc99bc4e6b43"
      },
      "execution_count": 305,
      "outputs": [
        {
          "output_type": "execute_result",
          "data": {
            "text/plain": [
              "['bob', 'ky']"
            ]
          },
          "metadata": {},
          "execution_count": 305
        }
      ]
    },
    {
      "cell_type": "code",
      "source": [
        "'ky' in myMap"
      ],
      "metadata": {
        "colab": {
          "base_uri": "https://localhost:8080/"
        },
        "id": "g1hx4d2OQogH",
        "outputId": "a7ba75cf-62e9-400f-8b55-26e742064ba1"
      },
      "execution_count": 306,
      "outputs": [
        {
          "output_type": "execute_result",
          "data": {
            "text/plain": [
              "True"
            ]
          },
          "metadata": {},
          "execution_count": 306
        }
      ]
    },
    {
      "cell_type": "code",
      "source": [
        "dict([('sape', 4139), ('guido', 4127), ('jack', 4098)])"
      ],
      "metadata": {
        "colab": {
          "base_uri": "https://localhost:8080/"
        },
        "id": "caQeGD0_Qt37",
        "outputId": "9fafc2cb-5ac6-4be8-f54d-53d0e6436faa"
      },
      "execution_count": 283,
      "outputs": [
        {
          "output_type": "execute_result",
          "data": {
            "text/plain": [
              "{'sape': 4139, 'guido': 4127, 'jack': 4098}"
            ]
          },
          "metadata": {},
          "execution_count": 283
        }
      ]
    },
    {
      "cell_type": "code",
      "source": [
        "for k,v in myMap.items():\n",
        "  print(k,v)"
      ],
      "metadata": {
        "colab": {
          "base_uri": "https://localhost:8080/"
        },
        "id": "dpA8JFGXQ3e5",
        "outputId": "a057c6c0-46d8-4457-b8c9-581957153493"
      },
      "execution_count": 284,
      "outputs": [
        {
          "output_type": "stream",
          "name": "stdout",
          "text": [
            "bob 77\n",
            "ky 99\n"
          ]
        }
      ]
    },
    {
      "cell_type": "code",
      "source": [
        "for idx,k in enumerate(myMap.keys()):\n",
        "  print(k,v)"
      ],
      "metadata": {
        "colab": {
          "base_uri": "https://localhost:8080/"
        },
        "id": "vXPowjPmRRzn",
        "outputId": "eeef4b1d-a6e7-486e-9dfb-5e636234c8d6"
      },
      "execution_count": 286,
      "outputs": [
        {
          "output_type": "stream",
          "name": "stdout",
          "text": [
            "0 bob\n",
            "1 ky\n"
          ]
        }
      ]
    },
    {
      "cell_type": "code",
      "source": [
        "myMap.pop('ky')"
      ],
      "metadata": {
        "colab": {
          "base_uri": "https://localhost:8080/"
        },
        "id": "iy8uUaY6Sqv0",
        "outputId": "341b9100-076b-4e57-e0af-24e4256ab447"
      },
      "execution_count": 308,
      "outputs": [
        {
          "output_type": "execute_result",
          "data": {
            "text/plain": [
              "99"
            ]
          },
          "metadata": {},
          "execution_count": 308
        }
      ]
    },
    {
      "cell_type": "code",
      "source": [
        "myMap1 = {i: i**2 for i in range(3)}\n",
        "myMap1"
      ],
      "metadata": {
        "colab": {
          "base_uri": "https://localhost:8080/"
        },
        "id": "ldgwyAv8TO0-",
        "outputId": "d5dc4ddc-d568-423b-e483-5763721e3c0b"
      },
      "execution_count": 310,
      "outputs": [
        {
          "output_type": "execute_result",
          "data": {
            "text/plain": [
              "{0: 0, 1: 1, 2: 4}"
            ]
          },
          "metadata": {},
          "execution_count": 310
        }
      ]
    },
    {
      "cell_type": "markdown",
      "source": [
        "# Tuples ( -  `(1,2)`)\n",
        "\n",
        "* **Immutable ordered arrays**\n",
        "* **Used as hashable keys in dictionary**\n",
        "\n",
        "* Used to create a tuple of elements and add them as keys to map or add them to set \n",
        "  * E.g. : Tuple of (name, gender)"
      ],
      "metadata": {
        "id": "U1wT_HUFTwFv"
      }
    },
    {
      "cell_type": "code",
      "source": [
        "map1 = {(1,2) : 3}\n",
        "print(map1)"
      ],
      "metadata": {
        "colab": {
          "base_uri": "https://localhost:8080/"
        },
        "id": "Tjx6Eu6VTaa9",
        "outputId": "8e5ce9db-b984-46d4-f374-19cdbb3d7ceb"
      },
      "execution_count": 311,
      "outputs": [
        {
          "output_type": "stream",
          "name": "stdout",
          "text": [
            "{(1, 2): 3}\n"
          ]
        }
      ]
    },
    {
      "cell_type": "code",
      "source": [
        "mySet = set()\n",
        "mySet.add((1,2))\n",
        "print((1,2) in mySet)"
      ],
      "metadata": {
        "colab": {
          "base_uri": "https://localhost:8080/"
        },
        "id": "C8lGQ_3NWcq9",
        "outputId": "ac9c8a7f-a73b-4aa9-bca4-951c1a553812"
      },
      "execution_count": 312,
      "outputs": [
        {
          "output_type": "stream",
          "name": "stdout",
          "text": [
            "True\n"
          ]
        }
      ]
    },
    {
      "cell_type": "markdown",
      "source": [
        "# Heaps\n",
        "\n",
        "* A data structure to implement abstract data type \"Priority Queue\"\n",
        "  * Abstract data type define interface (the behaviour).   \n",
        "  * Data structure defines the implementation of the abstract data type. \n",
        "* Priority queue:\n",
        "  * Similar to priority queue except **each element has some priority** \n",
        "  * Used for **comparable data** (which needs some ordering)\n",
        "  * The priority of elements determine the order in which the elements are removed.\n",
        "\n",
        "* What is heap?\n",
        "  * Binary Tree based data structure based on heap invarient :\n",
        "    * The parent node is either greater or less than its child node throughout the tree.\n",
        "  * Two varients \n",
        "    * Max heap (parent > child)\n",
        "    * Min heap (parent < child)\n",
        "\n",
        "* **Why ??**\n",
        "  * **Anytime we need to dynamically fetch the 'next best' or 'next worst element'** [Greaph theory algorithms]\n",
        "\n",
        "* Python implementation \n",
        "  * Default - min heap\n",
        "  * Using `heapq` module\n",
        "\n",
        "  * Operation \n",
        "    * `heapq.heapify(list)` - Create a min heap\n",
        "    * `heapq.heappush(list,element)` - Push element into heap\n",
        "    * `heapq.heappop(list)` - Pop the smallest element\n",
        "    * `heapq.nlargest(k, list)` - Pops the k largest elements\n",
        "    * `heapq.nsmallest(k, list)` - Pops the 3 smallest elements"
      ],
      "metadata": {
        "id": "04nee0x-aHAM"
      }
    },
    {
      "cell_type": "code",
      "source": [
        "import heapq\n",
        "\n",
        "li = [5,7,9,1,3]\n",
        "\n",
        "heapq.heapify(li)"
      ],
      "metadata": {
        "id": "PktU2ZWSidpf"
      },
      "execution_count": 313,
      "outputs": []
    },
    {
      "cell_type": "code",
      "source": [
        "list(li)"
      ],
      "metadata": {
        "colab": {
          "base_uri": "https://localhost:8080/"
        },
        "id": "I25is5tdWy3r",
        "outputId": "9cde251f-2324-4444-b0a8-c0029ad681bb"
      },
      "execution_count": 314,
      "outputs": [
        {
          "output_type": "execute_result",
          "data": {
            "text/plain": [
              "[1, 3, 9, 7, 5]"
            ]
          },
          "metadata": {},
          "execution_count": 314
        }
      ]
    },
    {
      "cell_type": "code",
      "source": [
        "heapq.heappush(li,2)\n",
        "heapq.heappush(li,8)\n",
        "heapq.heappush(li,0)"
      ],
      "metadata": {
        "id": "tCVQTvMQqgSU"
      },
      "execution_count": 316,
      "outputs": []
    },
    {
      "cell_type": "code",
      "source": [
        "heapq.heappop(li)"
      ],
      "metadata": {
        "id": "jil1RtFctKRq",
        "outputId": "6ec1c3e2-615b-4d0e-d60d-00c6cf4325fc",
        "colab": {
          "base_uri": "https://localhost:8080/"
        }
      },
      "execution_count": 319,
      "outputs": [
        {
          "output_type": "execute_result",
          "data": {
            "text/plain": [
              "0"
            ]
          },
          "metadata": {},
          "execution_count": 319
        }
      ]
    },
    {
      "cell_type": "code",
      "source": [
        "print(heapq.nlargest(3,li))"
      ],
      "metadata": {
        "id": "HO89FwustDvY",
        "outputId": "263bfc68-a5dc-4a32-8734-44420e35901a",
        "colab": {
          "base_uri": "https://localhost:8080/"
        }
      },
      "execution_count": 317,
      "outputs": [
        {
          "output_type": "stream",
          "name": "stdout",
          "text": [
            "[9, 8, 7]\n"
          ]
        }
      ]
    }
  ]
}