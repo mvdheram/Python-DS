{
  "nbformat": 4,
  "nbformat_minor": 0,
  "metadata": {
    "colab": {
      "name": "Efficient coding.ipynb",
      "provenance": [],
      "authorship_tag": "ABX9TyPay43pwM5h+0cSdS7Lc0vP",
      "include_colab_link": true
    },
    "kernelspec": {
      "name": "python3",
      "display_name": "Python 3"
    },
    "language_info": {
      "name": "python"
    }
  },
  "cells": [
    {
      "cell_type": "markdown",
      "metadata": {
        "id": "view-in-github",
        "colab_type": "text"
      },
      "source": [
        "<a href=\"https://colab.research.google.com/github/mvdheram/Python-DS/blob/master/Efficient_coding.ipynb\" target=\"_parent\"><img src=\"https://colab.research.google.com/assets/colab-badge.svg\" alt=\"Open In Colab\"/></a>"
      ]
    },
    {
      "cell_type": "markdown",
      "source": [
        "# Efficient code "
      ],
      "metadata": {
        "id": "CO4snkjtmjmJ"
      }
    },
    {
      "cell_type": "markdown",
      "source": [
        "*Definition*:\n",
        "\n",
        "* **Minimal memory usage**\n",
        "* **Minimal completion time**\n",
        "* **Pythonic**\n",
        "  * Following the idioms and best practices of python - *zen of python*  "
      ],
      "metadata": {
        "id": "-Ij0Q1jummrB"
      }
    },
    {
      "cell_type": "code",
      "execution_count": null,
      "metadata": {
        "colab": {
          "base_uri": "https://localhost:8080/"
        },
        "id": "5cATE6TLE6vb",
        "outputId": "660a3aa7-7611-4860-c47d-05da2c2bde85"
      },
      "outputs": [
        {
          "output_type": "stream",
          "name": "stdout",
          "text": [
            "The Zen of Python, by Tim Peters\n",
            "\n",
            "Beautiful is better than ugly.\n",
            "Explicit is better than implicit.\n",
            "Simple is better than complex.\n",
            "Complex is better than complicated.\n",
            "Flat is better than nested.\n",
            "Sparse is better than dense.\n",
            "Readability counts.\n",
            "Special cases aren't special enough to break the rules.\n",
            "Although practicality beats purity.\n",
            "Errors should never pass silently.\n",
            "Unless explicitly silenced.\n",
            "In the face of ambiguity, refuse the temptation to guess.\n",
            "There should be one-- and preferably only one --obvious way to do it.\n",
            "Although that way may not be obvious at first unless you're Dutch.\n",
            "Now is better than never.\n",
            "Although never is often better than *right* now.\n",
            "If the implementation is hard to explain, it's a bad idea.\n",
            "If the implementation is easy to explain, it may be a good idea.\n",
            "Namespaces are one honking great idea -- let's do more of those!\n"
          ]
        }
      ],
      "source": [
        "import this"
      ]
    },
    {
      "cell_type": "markdown",
      "source": [
        "# Examining runtime (`%timeit`)"
      ],
      "metadata": {
        "id": "-MLD_AvKTk4o"
      }
    },
    {
      "cell_type": "markdown",
      "source": [
        "`%timeit`\n",
        "\n",
        "* Compare runtime to choose the optimal solution\n",
        "* **Magic command `%timeit`**\n",
        "  * Enhancement on top of python syntax\n",
        "  * Start with `%` character\n",
        "\n",
        "* Set number of runs with `-rnumber`\n",
        "* Set number of loops wiht `-n10`\n",
        "\n",
        "\n",
        "E.g. Code running 2 times with 10 loops each which gives the time spend running each loop\n",
        "\n",
        "`%timeit -r2 -n10 rand_nums = np.random.rand(1000)`\n",
        "\n",
        "\n",
        "Notes:\n",
        "  * Check logic without print statements"
      ],
      "metadata": {
        "id": "Q5wM2NaYTqZo"
      }
    },
    {
      "cell_type": "markdown",
      "source": [
        "## `%timeit` for single line of code"
      ],
      "metadata": {
        "id": "o_yJfXLEZaLx"
      }
    },
    {
      "cell_type": "code",
      "source": [
        "import numpy as np\n",
        "\n",
        "%timeit rand_nums = np.random.rand(1000)"
      ],
      "metadata": {
        "colab": {
          "base_uri": "https://localhost:8080/"
        },
        "id": "T9nr-5FHX8Ft",
        "outputId": "aae8076f-05c3-4ae4-bfee-8ad4ff12fb2a"
      },
      "execution_count": 25,
      "outputs": [
        {
          "output_type": "stream",
          "name": "stdout",
          "text": [
            "The slowest run took 11.94 times longer than the fastest. This could mean that an intermediate result is being cached.\n",
            "100000 loops, best of 5: 9.12 µs per loop\n"
          ]
        }
      ]
    },
    {
      "cell_type": "markdown",
      "source": [
        "## `%%timeit` for multiple lines of code"
      ],
      "metadata": {
        "id": "dWgM_DRmZgk-"
      }
    },
    {
      "cell_type": "code",
      "source": [
        "%%timeit\n",
        "letters = ['a','b','c']\n",
        "\n",
        "indexed_letters = enumerate(letters)\n",
        "\n",
        "indexed_letters_list = list(indexed_letters)"
      ],
      "metadata": {
        "colab": {
          "base_uri": "https://localhost:8080/"
        },
        "id": "aV49WD_HYNyj",
        "outputId": "2478c997-72c7-4702-e470-5b13816a7e44"
      },
      "execution_count": 27,
      "outputs": [
        {
          "output_type": "stream",
          "name": "stdout",
          "text": [
            "The slowest run took 5.38 times longer than the fastest. This could mean that an intermediate result is being cached.\n",
            "1000000 loops, best of 5: 512 ns per loop\n"
          ]
        }
      ]
    },
    {
      "cell_type": "markdown",
      "source": [
        "## `line_profile` to profile  time multiple lines of code (function)\n",
        "\n",
        "* Detailed stats on frequency and duration of function call \n",
        "* Line by line analyses \n",
        "* Using package `line_profiler`"
      ],
      "metadata": {
        "id": "blYSN4gEfTEF"
      }
    },
    {
      "cell_type": "markdown",
      "source": [
        "Steps:\n",
        "\n",
        "1. Install line profiler with pip \n",
        "  * `pip install line_profiler`\n",
        "2. Load line profiler into session\n",
        "  * `%load_ext line_profiler`\n",
        "3. Magic command for analysis \n",
        "  * `%lprun -f function_name funciton_name_with_arguments`  "
      ],
      "metadata": {
        "id": "FL2jpuWWgVCX"
      }
    },
    {
      "cell_type": "markdown",
      "source": [
        "## Comparing formal and literal syntax for built-in types"
      ],
      "metadata": {
        "id": "fFj7pGAWanv8"
      }
    },
    {
      "cell_type": "code",
      "source": [
        "%timeit formal_dict = dict()"
      ],
      "metadata": {
        "colab": {
          "base_uri": "https://localhost:8080/"
        },
        "id": "J5KCF4HRaXp8",
        "outputId": "7fb58cc9-4c2c-4e0c-d1a4-11935d5da100"
      },
      "execution_count": 28,
      "outputs": [
        {
          "output_type": "stream",
          "name": "stdout",
          "text": [
            "The slowest run took 8.44 times longer than the fastest. This could mean that an intermediate result is being cached.\n",
            "10000000 loops, best of 5: 123 ns per loop\n"
          ]
        }
      ]
    },
    {
      "cell_type": "code",
      "source": [
        "%timeit literal_dict = {}"
      ],
      "metadata": {
        "colab": {
          "base_uri": "https://localhost:8080/"
        },
        "id": "iz8-6g_sah2T",
        "outputId": "0e474c71-d005-4b64-b7f1-5e55b8f4d74c"
      },
      "execution_count": 29,
      "outputs": [
        {
          "output_type": "stream",
          "name": "stdout",
          "text": [
            "10000000 loops, best of 5: 50.4 ns per loop\n"
          ]
        }
      ]
    },
    {
      "cell_type": "markdown",
      "source": [
        "# Examining Memory usage "
      ],
      "metadata": {
        "id": "t6kftVTbczOm"
      }
    },
    {
      "cell_type": "markdown",
      "source": [
        "2 ways \n",
        "\n",
        "1. `sys` : Quick and dirty way using built in module\n",
        "  * `sys.getsizeof(nums_np)` \n",
        "  * Returns size in bytes\n",
        "  * For single line\n",
        "\n",
        "2. Code profiler : `memory_profiler` \n",
        "  * Gather detailed stats on memory used by a function line-by-line.\n",
        "  * **Can only be used on physical files, hence functions need to be saved on files**\n",
        "  * Steps :\n",
        "    1. Import the function from file \n",
        "      * `from hero_funcs import convert_units`\n",
        "    2. Install `memory_profiler` with pip\n",
        "    3. Use `load_ext` for loading it into the current session\n",
        "    4. run `%mprun -f function_name function_name_with_arguments`  \n",
        "\n"
      ],
      "metadata": {
        "id": "YJnoftCihT1l"
      }
    },
    {
      "cell_type": "markdown",
      "source": [
        "# Python standard library \n",
        "\n",
        "* **Use built-in solution rather than developing new solution** "
      ],
      "metadata": {
        "id": "6N3cwaVQoTLf"
      }
    },
    {
      "cell_type": "markdown",
      "source": [
        "## Built-in data structure types \n",
        "\n"
      ],
      "metadata": {
        "id": "Q2ODc1GsomJb"
      }
    },
    {
      "cell_type": "markdown",
      "source": [
        "### list "
      ],
      "metadata": {
        "id": "ZbfU-94Spdh1"
      }
    },
    {
      "cell_type": "code",
      "source": [
        ""
      ],
      "metadata": {
        "id": "KpOoOQRpoeIe"
      },
      "execution_count": null,
      "outputs": []
    },
    {
      "cell_type": "markdown",
      "source": [
        "### tuple"
      ],
      "metadata": {
        "id": "jDaPGKw2p2Tm"
      }
    },
    {
      "cell_type": "code",
      "source": [
        ""
      ],
      "metadata": {
        "id": "1GUdBl6Lp8R-"
      },
      "execution_count": null,
      "outputs": []
    },
    {
      "cell_type": "markdown",
      "source": [
        "### set"
      ],
      "metadata": {
        "id": "yyf5qIp2p4FK"
      }
    },
    {
      "cell_type": "code",
      "source": [
        ""
      ],
      "metadata": {
        "id": "gpdF4jkop834"
      },
      "execution_count": null,
      "outputs": []
    },
    {
      "cell_type": "markdown",
      "source": [
        "### dict"
      ],
      "metadata": {
        "id": "rvJDvchip5ns"
      }
    },
    {
      "cell_type": "code",
      "source": [
        ""
      ],
      "metadata": {
        "id": "1c7ghl9np9sc"
      },
      "execution_count": null,
      "outputs": []
    },
    {
      "cell_type": "markdown",
      "source": [
        "## Final notes"
      ],
      "metadata": {
        "id": "2uybvul1p-Pe"
      }
    },
    {
      "cell_type": "markdown",
      "source": [
        ""
      ],
      "metadata": {
        "id": "Y8Tl3BUsqA3i"
      }
    },
    {
      "cell_type": "markdown",
      "source": [
        "## Built-in functions\n",
        "\n",
        "* **Functions to handle built in data types** "
      ],
      "metadata": {
        "id": "GailS_N6pzB2"
      }
    },
    {
      "cell_type": "markdown",
      "source": [
        "### range (create sequence with start and stop values)\n",
        "\n",
        "`range`\n",
        "\n",
        "* Parameters : (start, stop, step value)\n",
        "* Return : range object (to be converted to list)\n",
        "\n",
        "Notes:\n",
        "\n",
        "* **Stop value exclusive of given number**"
      ],
      "metadata": {
        "id": "yc4DUXjWqzT2"
      }
    },
    {
      "cell_type": "code",
      "source": [
        "nums = range(0,11)\n",
        "print(\"list of values using range : \" + str(list(nums)))\n",
        "\n",
        "print(\"list of values using range - unpacked : \" + str([*(range(7))]))\n",
        "\n",
        "print(str(list(range(2, 11, 2))))"
      ],
      "metadata": {
        "colab": {
          "base_uri": "https://localhost:8080/"
        },
        "id": "YjvHRI8jp1Wf",
        "outputId": "38c4a81f-2f37-44e0-9c6a-f986e5cc25cd"
      },
      "execution_count": null,
      "outputs": [
        {
          "output_type": "stream",
          "name": "stdout",
          "text": [
            "list of values using range : [0, 1, 2, 3, 4, 5, 6, 7, 8, 9, 10]\n",
            "list of values using range - unpacked : [0, 1, 2, 3, 4, 5, 6]\n",
            "[2, 4, 6, 8, 10]\n"
          ]
        }
      ]
    },
    {
      "cell_type": "markdown",
      "source": [
        "### enumerate (create indexed list of objects)\n",
        "\n",
        "`enumerate`\n",
        "\n",
        "* Parameters : (list)\n",
        "* Return : enumerate object (to be converted to list)"
      ],
      "metadata": {
        "id": "4Aets_LCtu4v"
      }
    },
    {
      "cell_type": "code",
      "source": [
        "letters = ['a','b','c']\n",
        "\n",
        "indexed_letters = enumerate(letters)\n",
        "\n",
        "indexed_letters_list = list(indexed_letters)\n",
        "print(indexed_letters_list)"
      ],
      "metadata": {
        "id": "LK8xq-qfrGXY",
        "colab": {
          "base_uri": "https://localhost:8080/"
        },
        "outputId": "45fe49a2-62b8-46df-80e6-46f568ce92ca"
      },
      "execution_count": 15,
      "outputs": [
        {
          "output_type": "stream",
          "name": "stdout",
          "text": [
            "[(0, 'a'), (1, 'b'), (2, 'c')]\n"
          ]
        }
      ]
    },
    {
      "cell_type": "markdown",
      "source": [
        "### map (applies function over an object)\n",
        "\n",
        "`map`\n",
        "\n",
        "* Parameters : (function, list object)  \n",
        "* Return : map object (to be converted to list)\n",
        "\n",
        "Notes:\n",
        "\n",
        "* Function argument can takes a built-in / anonymous(lamda) function such as `sum`,`round` etc.. "
      ],
      "metadata": {
        "id": "_R9mOwf374B-"
      }
    },
    {
      "cell_type": "code",
      "source": [
        "nums = [1.5, 2.0, 4.1]\n",
        "\n",
        "rnd_nums = map(round, nums)\n",
        "\n",
        "print(list(rnd_nums))"
      ],
      "metadata": {
        "colab": {
          "base_uri": "https://localhost:8080/"
        },
        "id": "pS0Qg3lf7zPI",
        "outputId": "1aa693ca-6c63-468b-f112-53d225b85a02"
      },
      "execution_count": 17,
      "outputs": [
        {
          "output_type": "stream",
          "name": "stdout",
          "text": [
            "[2, 2, 4]\n"
          ]
        }
      ]
    },
    {
      "cell_type": "code",
      "source": [
        "sqrd_nums = map(lambda x : x ** 2, nums)\n",
        "\n",
        "print(list(sqrd_nums))"
      ],
      "metadata": {
        "colab": {
          "base_uri": "https://localhost:8080/"
        },
        "id": "6uuwPH7CInD-",
        "outputId": "f9d647bc-d4ce-4de1-e020-640f9b1b3f7a"
      },
      "execution_count": 18,
      "outputs": [
        {
          "output_type": "stream",
          "name": "stdout",
          "text": [
            "[2.25, 4.0, 16.81]\n"
          ]
        }
      ]
    },
    {
      "cell_type": "markdown",
      "source": [
        "# NumPy Arrays\n",
        "\n",
        "* NumPy (Numerical Python) is an package for scientific computing in python.\n",
        "* Provides efficient means of handling data"
      ],
      "metadata": {
        "id": "NGIQacXnJ-2I"
      }
    },
    {
      "cell_type": "markdown",
      "source": [
        "## NumPy arrays ( Fast memory efficient alternative to python list)\n",
        "\n",
        "* **Properties**\n",
        "  * **Homogenity** : Numpy arrays are homogenious (**elements must be of same type** - int or float etc.)\n",
        "  * **Broadcasting** : Perform single operation on entire colleciton of values (vectorized operations)\n",
        "  * **Boolean indexing** : Perform boolean/comparison operation and filter entire numpy array with the index  "
      ],
      "metadata": {
        "id": "xYy-bmTlKgXM"
      }
    },
    {
      "cell_type": "code",
      "source": [
        "import numpy as np \n",
        "\n",
        "nums_np = np.array(range(5))\n",
        "\n",
        "print(nums_np)\n",
        "\n",
        "print(nums_np.dtype)"
      ],
      "metadata": {
        "colab": {
          "base_uri": "https://localhost:8080/"
        },
        "id": "yqvsvG4AKfnx",
        "outputId": "1ce89e6d-83ba-4fbd-c733-3835a1ea6708"
      },
      "execution_count": 20,
      "outputs": [
        {
          "output_type": "stream",
          "name": "stdout",
          "text": [
            "[0 1 2 3 4]\n",
            "int64\n"
          ]
        }
      ]
    },
    {
      "cell_type": "markdown",
      "source": [
        "### Broadcasting (single operation on entire array)"
      ],
      "metadata": {
        "id": "IlDxnESTQgIx"
      }
    },
    {
      "cell_type": "code",
      "source": [
        "nums = np.array([-1, -2, 0, 1, 2])\n",
        "\n",
        "nums ** 2 "
      ],
      "metadata": {
        "colab": {
          "base_uri": "https://localhost:8080/"
        },
        "id": "S2Ay4lDTOl2_",
        "outputId": "7e4c111e-d1cc-4519-f117-1dfda2521a9d"
      },
      "execution_count": 22,
      "outputs": [
        {
          "output_type": "execute_result",
          "data": {
            "text/plain": [
              "array([1, 4, 0, 1, 4])"
            ]
          },
          "metadata": {},
          "execution_count": 22
        }
      ]
    },
    {
      "cell_type": "markdown",
      "source": [
        "### Boolean indexing (single boolean comparison operation and filtering)"
      ],
      "metadata": {
        "id": "CrCeBXqtS6KF"
      }
    },
    {
      "cell_type": "code",
      "source": [
        "nums > 0"
      ],
      "metadata": {
        "colab": {
          "base_uri": "https://localhost:8080/"
        },
        "id": "eJzjdTpaQXUJ",
        "outputId": "720d5e6f-8d9e-4aac-be20-42d5f476211c"
      },
      "execution_count": 23,
      "outputs": [
        {
          "output_type": "execute_result",
          "data": {
            "text/plain": [
              "array([False, False, False,  True,  True])"
            ]
          },
          "metadata": {},
          "execution_count": 23
        }
      ]
    },
    {
      "cell_type": "code",
      "source": [
        "nums[nums > 0]"
      ],
      "metadata": {
        "colab": {
          "base_uri": "https://localhost:8080/"
        },
        "id": "ilMUcXYSTGq_",
        "outputId": "e26882b7-d0fb-492b-c822-36e7ced4425a"
      },
      "execution_count": 24,
      "outputs": [
        {
          "output_type": "execute_result",
          "data": {
            "text/plain": [
              "array([1, 2])"
            ]
          },
          "metadata": {},
          "execution_count": 24
        }
      ]
    },
    {
      "cell_type": "markdown",
      "source": [
        "# Combining, counting and iterating"
      ],
      "metadata": {
        "id": "we52ravpjZ3K"
      }
    },
    {
      "cell_type": "markdown",
      "source": [
        "## Combining objects using `zip`\n",
        "\n",
        "Efficient way of combining two lists \n",
        "\n",
        "* Parameters : (list1, list2)\n",
        "* Return : zip object (**list of combined tuple elements**) "
      ],
      "metadata": {
        "id": "KEWOGxivjnPO"
      }
    },
    {
      "cell_type": "code",
      "source": [
        "names = ['x', 'y', 'z']\n",
        "hps = [1, 7, 9]\n",
        "\n",
        "combined_zip = zip(names, hps)"
      ],
      "metadata": {
        "id": "pOALRMC2jfcK"
      },
      "execution_count": 31,
      "outputs": []
    },
    {
      "cell_type": "code",
      "source": [
        "list(combined_zip)"
      ],
      "metadata": {
        "colab": {
          "base_uri": "https://localhost:8080/"
        },
        "id": "egL6yfgdj4WO",
        "outputId": "7bb9c79b-771b-4df9-f110-be0006185d8e"
      },
      "execution_count": 33,
      "outputs": [
        {
          "output_type": "execute_result",
          "data": {
            "text/plain": [
              "[('x', 1), ('y', 7), ('z', 9)]"
            ]
          },
          "metadata": {},
          "execution_count": 33
        }
      ]
    },
    {
      "cell_type": "markdown",
      "source": [
        "### Collection module ( alternatives to dict, list, set and tuples)\n",
        "\n",
        "* Specialized container datatypes \n",
        "\n",
        "* e.g. \n",
        "  * `namedtupel` : tuple subclass with named fields\n",
        "  * `deque` : list-like container with fast appends and pops\n",
        "  * `Counter` : dict for counting hashable objects\n",
        "  * `OrderedDict` : dict that retains order fo entries\n",
        "  * `defaultdict` : dict that calls a factory funciton to supply missing values\n"
      ],
      "metadata": {
        "id": "OT95Grz0kuUo"
      }
    },
    {
      "cell_type": "code",
      "source": [
        ""
      ],
      "metadata": {
        "id": "33RmguP-j5ns"
      },
      "execution_count": null,
      "outputs": []
    }
  ]
}